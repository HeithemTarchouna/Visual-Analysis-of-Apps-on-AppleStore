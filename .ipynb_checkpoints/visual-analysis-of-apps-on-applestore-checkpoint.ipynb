{
 "cells": [
  {
   "cell_type": "markdown",
   "metadata": {
    "_uuid": "77d1b558c70e2ca7d58bfc9371d9f7d78feb721b"
   },
   "source": [
    "![](http://images.trendingstories.net/es/s/Ctrl?Command=ScaleImage&usecache=1&maxw=600&maxh=1200&red=0&if=jpg&imgurl=http%3A%2F%2Fc512cfd2a3775cdd40e6-222afba0d566c26fa1accb64e6414783.r55.cf1.rackcdn.com%2FLifestyle%2FBest%2520iPad%2520Apps%2520You%2520Probably%2520Dont%2520Have%2FIcon-collage.jpg)\n",
    "\n",
    "## 6 Interesting Questions to ask\n",
    "\n",
    "1. How do you visualize price distribution of paid apps ?\n",
    "2. How does the price distribution get affected by category ?\n",
    "3. What about paid apps Vs Free apps ?\n",
    "4. Are paid apps good enough ?\n",
    "5. As the size of the app increases do they get pricier ?\n",
    "6. How are the apps distributed category wise ? can we split by paid category ?"
   ]
  },
  {
   "cell_type": "code",
   "execution_count": 1,
   "metadata": {
    "_uuid": "72bfc9132a01279f68413ea7ffff851e096c375c"
   },
   "outputs": [],
   "source": [
    "import pandas as pd\n",
    "import numpy as np\n",
    "from matplotlib import pyplot as plt\n",
    "import seaborn as sns"
   ]
  },
  {
   "cell_type": "markdown",
   "metadata": {
    "_uuid": "5cb797d93fa07c500b73c2f8b6d277a1cd2b09d9"
   },
   "source": [
    "# Understand what is the data set about"
   ]
  },
  {
   "cell_type": "markdown",
   "metadata": {
    "_uuid": "2c93f18d437f808049e8379f2233e20be015f020"
   },
   "source": [
    "- The data set comprises of information on 7200 apps on App store with following imp details\n",
    "\n",
    "    - \"id\" : App ID\n",
    "    - \"track_name\": App Name\n",
    "    - \"size_bytes\": Size (in Bytes)\n",
    "    - \"price\": Price amount\n",
    "    - \"rating_count_tot\": User Rating counts (for all version)\n",
    "    - \"rating_count_ver\": User Rating counts (for current version)\n",
    "    - \"prime_genre\": Primary Genre"
   ]
  },
  {
   "cell_type": "code",
   "execution_count": 2,
   "metadata": {
    "_uuid": "372b200682e782d574ed677ccb9584a950fe315c"
   },
   "outputs": [
    {
     "ename": "FileNotFoundError",
     "evalue": "[Errno 2] No such file or directory: '../input/AppleStore.csv'",
     "output_type": "error",
     "traceback": [
      "\u001b[1;31m---------------------------------------------------------------------------\u001b[0m",
      "\u001b[1;31mFileNotFoundError\u001b[0m                         Traceback (most recent call last)",
      "\u001b[1;32m<ipython-input-2-35a03be28458>\u001b[0m in \u001b[0;36m<module>\u001b[1;34m\u001b[0m\n\u001b[0;32m      1\u001b[0m \u001b[0madd\u001b[0m \u001b[1;33m=\u001b[0m \u001b[1;34m\"../input/AppleStore.csv\"\u001b[0m\u001b[1;33m\u001b[0m\u001b[1;33m\u001b[0m\u001b[0m\n\u001b[1;32m----> 2\u001b[1;33m \u001b[0mdata\u001b[0m \u001b[1;33m=\u001b[0m \u001b[0mpd\u001b[0m\u001b[1;33m.\u001b[0m\u001b[0mread_csv\u001b[0m\u001b[1;33m(\u001b[0m\u001b[0madd\u001b[0m\u001b[1;33m)\u001b[0m\u001b[1;33m\u001b[0m\u001b[1;33m\u001b[0m\u001b[0m\n\u001b[0m\u001b[0;32m      3\u001b[0m \u001b[0mdata\u001b[0m\u001b[1;33m.\u001b[0m\u001b[0mhead\u001b[0m\u001b[1;33m(\u001b[0m\u001b[1;33m)\u001b[0m\u001b[1;33m\u001b[0m\u001b[1;33m\u001b[0m\u001b[0m\n",
      "\u001b[1;32mC:\\ProgramData\\Anaconda3\\envs\\tensorGPU\\lib\\site-packages\\pandas\\io\\parsers.py\u001b[0m in \u001b[0;36mread_csv\u001b[1;34m(filepath_or_buffer, sep, delimiter, header, names, index_col, usecols, squeeze, prefix, mangle_dupe_cols, dtype, engine, converters, true_values, false_values, skipinitialspace, skiprows, skipfooter, nrows, na_values, keep_default_na, na_filter, verbose, skip_blank_lines, parse_dates, infer_datetime_format, keep_date_col, date_parser, dayfirst, cache_dates, iterator, chunksize, compression, thousands, decimal, lineterminator, quotechar, quoting, doublequote, escapechar, comment, encoding, dialect, error_bad_lines, warn_bad_lines, delim_whitespace, low_memory, memory_map, float_precision)\u001b[0m\n\u001b[0;32m    684\u001b[0m     )\n\u001b[0;32m    685\u001b[0m \u001b[1;33m\u001b[0m\u001b[0m\n\u001b[1;32m--> 686\u001b[1;33m     \u001b[1;32mreturn\u001b[0m \u001b[0m_read\u001b[0m\u001b[1;33m(\u001b[0m\u001b[0mfilepath_or_buffer\u001b[0m\u001b[1;33m,\u001b[0m \u001b[0mkwds\u001b[0m\u001b[1;33m)\u001b[0m\u001b[1;33m\u001b[0m\u001b[1;33m\u001b[0m\u001b[0m\n\u001b[0m\u001b[0;32m    687\u001b[0m \u001b[1;33m\u001b[0m\u001b[0m\n\u001b[0;32m    688\u001b[0m \u001b[1;33m\u001b[0m\u001b[0m\n",
      "\u001b[1;32mC:\\ProgramData\\Anaconda3\\envs\\tensorGPU\\lib\\site-packages\\pandas\\io\\parsers.py\u001b[0m in \u001b[0;36m_read\u001b[1;34m(filepath_or_buffer, kwds)\u001b[0m\n\u001b[0;32m    450\u001b[0m \u001b[1;33m\u001b[0m\u001b[0m\n\u001b[0;32m    451\u001b[0m     \u001b[1;31m# Create the parser.\u001b[0m\u001b[1;33m\u001b[0m\u001b[1;33m\u001b[0m\u001b[1;33m\u001b[0m\u001b[0m\n\u001b[1;32m--> 452\u001b[1;33m     \u001b[0mparser\u001b[0m \u001b[1;33m=\u001b[0m \u001b[0mTextFileReader\u001b[0m\u001b[1;33m(\u001b[0m\u001b[0mfp_or_buf\u001b[0m\u001b[1;33m,\u001b[0m \u001b[1;33m**\u001b[0m\u001b[0mkwds\u001b[0m\u001b[1;33m)\u001b[0m\u001b[1;33m\u001b[0m\u001b[1;33m\u001b[0m\u001b[0m\n\u001b[0m\u001b[0;32m    453\u001b[0m \u001b[1;33m\u001b[0m\u001b[0m\n\u001b[0;32m    454\u001b[0m     \u001b[1;32mif\u001b[0m \u001b[0mchunksize\u001b[0m \u001b[1;32mor\u001b[0m \u001b[0miterator\u001b[0m\u001b[1;33m:\u001b[0m\u001b[1;33m\u001b[0m\u001b[1;33m\u001b[0m\u001b[0m\n",
      "\u001b[1;32mC:\\ProgramData\\Anaconda3\\envs\\tensorGPU\\lib\\site-packages\\pandas\\io\\parsers.py\u001b[0m in \u001b[0;36m__init__\u001b[1;34m(self, f, engine, **kwds)\u001b[0m\n\u001b[0;32m    944\u001b[0m             \u001b[0mself\u001b[0m\u001b[1;33m.\u001b[0m\u001b[0moptions\u001b[0m\u001b[1;33m[\u001b[0m\u001b[1;34m\"has_index_names\"\u001b[0m\u001b[1;33m]\u001b[0m \u001b[1;33m=\u001b[0m \u001b[0mkwds\u001b[0m\u001b[1;33m[\u001b[0m\u001b[1;34m\"has_index_names\"\u001b[0m\u001b[1;33m]\u001b[0m\u001b[1;33m\u001b[0m\u001b[1;33m\u001b[0m\u001b[0m\n\u001b[0;32m    945\u001b[0m \u001b[1;33m\u001b[0m\u001b[0m\n\u001b[1;32m--> 946\u001b[1;33m         \u001b[0mself\u001b[0m\u001b[1;33m.\u001b[0m\u001b[0m_make_engine\u001b[0m\u001b[1;33m(\u001b[0m\u001b[0mself\u001b[0m\u001b[1;33m.\u001b[0m\u001b[0mengine\u001b[0m\u001b[1;33m)\u001b[0m\u001b[1;33m\u001b[0m\u001b[1;33m\u001b[0m\u001b[0m\n\u001b[0m\u001b[0;32m    947\u001b[0m \u001b[1;33m\u001b[0m\u001b[0m\n\u001b[0;32m    948\u001b[0m     \u001b[1;32mdef\u001b[0m \u001b[0mclose\u001b[0m\u001b[1;33m(\u001b[0m\u001b[0mself\u001b[0m\u001b[1;33m)\u001b[0m\u001b[1;33m:\u001b[0m\u001b[1;33m\u001b[0m\u001b[1;33m\u001b[0m\u001b[0m\n",
      "\u001b[1;32mC:\\ProgramData\\Anaconda3\\envs\\tensorGPU\\lib\\site-packages\\pandas\\io\\parsers.py\u001b[0m in \u001b[0;36m_make_engine\u001b[1;34m(self, engine)\u001b[0m\n\u001b[0;32m   1176\u001b[0m     \u001b[1;32mdef\u001b[0m \u001b[0m_make_engine\u001b[0m\u001b[1;33m(\u001b[0m\u001b[0mself\u001b[0m\u001b[1;33m,\u001b[0m \u001b[0mengine\u001b[0m\u001b[1;33m=\u001b[0m\u001b[1;34m\"c\"\u001b[0m\u001b[1;33m)\u001b[0m\u001b[1;33m:\u001b[0m\u001b[1;33m\u001b[0m\u001b[1;33m\u001b[0m\u001b[0m\n\u001b[0;32m   1177\u001b[0m         \u001b[1;32mif\u001b[0m \u001b[0mengine\u001b[0m \u001b[1;33m==\u001b[0m \u001b[1;34m\"c\"\u001b[0m\u001b[1;33m:\u001b[0m\u001b[1;33m\u001b[0m\u001b[1;33m\u001b[0m\u001b[0m\n\u001b[1;32m-> 1178\u001b[1;33m             \u001b[0mself\u001b[0m\u001b[1;33m.\u001b[0m\u001b[0m_engine\u001b[0m \u001b[1;33m=\u001b[0m \u001b[0mCParserWrapper\u001b[0m\u001b[1;33m(\u001b[0m\u001b[0mself\u001b[0m\u001b[1;33m.\u001b[0m\u001b[0mf\u001b[0m\u001b[1;33m,\u001b[0m \u001b[1;33m**\u001b[0m\u001b[0mself\u001b[0m\u001b[1;33m.\u001b[0m\u001b[0moptions\u001b[0m\u001b[1;33m)\u001b[0m\u001b[1;33m\u001b[0m\u001b[1;33m\u001b[0m\u001b[0m\n\u001b[0m\u001b[0;32m   1179\u001b[0m         \u001b[1;32melse\u001b[0m\u001b[1;33m:\u001b[0m\u001b[1;33m\u001b[0m\u001b[1;33m\u001b[0m\u001b[0m\n\u001b[0;32m   1180\u001b[0m             \u001b[1;32mif\u001b[0m \u001b[0mengine\u001b[0m \u001b[1;33m==\u001b[0m \u001b[1;34m\"python\"\u001b[0m\u001b[1;33m:\u001b[0m\u001b[1;33m\u001b[0m\u001b[1;33m\u001b[0m\u001b[0m\n",
      "\u001b[1;32mC:\\ProgramData\\Anaconda3\\envs\\tensorGPU\\lib\\site-packages\\pandas\\io\\parsers.py\u001b[0m in \u001b[0;36m__init__\u001b[1;34m(self, src, **kwds)\u001b[0m\n\u001b[0;32m   2006\u001b[0m         \u001b[0mkwds\u001b[0m\u001b[1;33m[\u001b[0m\u001b[1;34m\"usecols\"\u001b[0m\u001b[1;33m]\u001b[0m \u001b[1;33m=\u001b[0m \u001b[0mself\u001b[0m\u001b[1;33m.\u001b[0m\u001b[0musecols\u001b[0m\u001b[1;33m\u001b[0m\u001b[1;33m\u001b[0m\u001b[0m\n\u001b[0;32m   2007\u001b[0m \u001b[1;33m\u001b[0m\u001b[0m\n\u001b[1;32m-> 2008\u001b[1;33m         \u001b[0mself\u001b[0m\u001b[1;33m.\u001b[0m\u001b[0m_reader\u001b[0m \u001b[1;33m=\u001b[0m \u001b[0mparsers\u001b[0m\u001b[1;33m.\u001b[0m\u001b[0mTextReader\u001b[0m\u001b[1;33m(\u001b[0m\u001b[0msrc\u001b[0m\u001b[1;33m,\u001b[0m \u001b[1;33m**\u001b[0m\u001b[0mkwds\u001b[0m\u001b[1;33m)\u001b[0m\u001b[1;33m\u001b[0m\u001b[1;33m\u001b[0m\u001b[0m\n\u001b[0m\u001b[0;32m   2009\u001b[0m         \u001b[0mself\u001b[0m\u001b[1;33m.\u001b[0m\u001b[0munnamed_cols\u001b[0m \u001b[1;33m=\u001b[0m \u001b[0mself\u001b[0m\u001b[1;33m.\u001b[0m\u001b[0m_reader\u001b[0m\u001b[1;33m.\u001b[0m\u001b[0munnamed_cols\u001b[0m\u001b[1;33m\u001b[0m\u001b[1;33m\u001b[0m\u001b[0m\n\u001b[0;32m   2010\u001b[0m \u001b[1;33m\u001b[0m\u001b[0m\n",
      "\u001b[1;32mpandas\\_libs\\parsers.pyx\u001b[0m in \u001b[0;36mpandas._libs.parsers.TextReader.__cinit__\u001b[1;34m()\u001b[0m\n",
      "\u001b[1;32mpandas\\_libs\\parsers.pyx\u001b[0m in \u001b[0;36mpandas._libs.parsers.TextReader._setup_parser_source\u001b[1;34m()\u001b[0m\n",
      "\u001b[1;31mFileNotFoundError\u001b[0m: [Errno 2] No such file or directory: '../input/AppleStore.csv'"
     ]
    }
   ],
   "source": [
    "add = \"../input/AppleStore.csv\"\n",
    "data = pd.read_csv(add)\n",
    "data.head()\n"
   ]
  },
  {
   "cell_type": "markdown",
   "metadata": {
    "_uuid": "77a5ff73384d88a894354b9c8a64c539f75fc22a"
   },
   "source": [
    "## 1. How do you visualize price distribution of paid apps ?"
   ]
  },
  {
   "cell_type": "code",
   "execution_count": null,
   "metadata": {
    "_uuid": "cf7036c683818a2f5598597614f9b12da1fa8871"
   },
   "outputs": [],
   "source": [
    "#fact generator \n",
    "print ('1. Free apps are ' + str(sum(data.price == 0)))\n",
    "print ('2. Counting (outliers) super expensive apps ' + str(sum(data.price > 50)))\n",
    "print (' -  which is around ' + str(sum(data.price > 50)/len(data.price)*100) +\n",
    "       \" % of the total Apps\")\n",
    "print (' Thus we will dropping the following apps')\n",
    "outlier=data[data.price>50][['track_name','price','prime_genre','user_rating']]\n",
    "freeapps = data[data.price==0]\n",
    "outlier"
   ]
  },
  {
   "cell_type": "code",
   "execution_count": null,
   "metadata": {
    "_uuid": "3d44f2f756c00090d11e7eed4f5b67e07f9c67f3"
   },
   "outputs": [],
   "source": [
    "# removing\n",
    "paidapps =data[((data.price<50) & (data.price>0))]\n",
    "print('Now the max price of any app in new data is : ' + str(max(paidapps.price)))\n",
    "print('Now the min price of any app in new data is : ' + str(min(paidapps.price)))\n",
    "#paidapps.prime_genre.value_counts()"
   ]
  },
  {
   "cell_type": "code",
   "execution_count": null,
   "metadata": {
    "_uuid": "727a01eb8223d2a25b4d9c7259b163a59dec0b41"
   },
   "outputs": [],
   "source": [
    "plt.style.use('fivethirtyeight')\n",
    "plt.figure(figsize=(15,15))\n",
    "plt.subplot(2,1,1)\n",
    "\n",
    "plt.hist(paidapps.price,log=True)\n",
    "plt.title('Price distribution of apps (Log scale)')\n",
    "plt.ylabel(\"Frequency Log scale\")\n",
    "plt.xlabel(\"Price Distributions in ($) \")\n",
    "\n",
    "plt.subplot(2,1,2)\n",
    "plt.title('Visual price distribution')\n",
    "sns.stripplot(data=paidapps,y='price',jitter= True,orient = 'h' ,size=6)\n",
    "plt.show()"
   ]
  },
  {
   "cell_type": "markdown",
   "metadata": {
    "_uuid": "f0b0c8ac67f70eec650bca65f47c42572227e8d1"
   },
   "source": [
    "## Insights\n",
    "1. Count of paid apps is exponentially decreases as the price increases\n",
    "2. Very few apps have been priced above 30 \\$. So its important to keep price of your app below 30$"
   ]
  },
  {
   "cell_type": "markdown",
   "metadata": {
    "_uuid": "fb55521f3befd6e16dbd4838b333a975f9d86877"
   },
   "source": [
    "## 2. How does the price distribution get affected by category ?\n"
   ]
  },
  {
   "cell_type": "code",
   "execution_count": null,
   "metadata": {
    "_uuid": "34e54538453375c8ea398decb8b66b7188b20818",
    "scrolled": false
   },
   "outputs": [],
   "source": [
    "yrange = [0,25]\n",
    "fsize =15\n",
    "\n",
    "plt.figure(figsize=(15,10))\n",
    "\n",
    "plt.subplot(4,1,1)\n",
    "plt.xlim(yrange)\n",
    "games = paidapps[paidapps.prime_genre=='Games']\n",
    "sns.stripplot(data=games,y='price',jitter= True , orient ='h',size=6,color='#eb5e66')\n",
    "plt.title('Games',fontsize=fsize)\n",
    "plt.xlabel('') \n",
    "\n",
    "plt.subplot(4,1,2)\n",
    "plt.xlim(yrange)\n",
    "ent = paidapps[paidapps.prime_genre=='Entertainment']\n",
    "sns.stripplot(data=ent,y='price',jitter= True ,orient ='h',size=6,color='#ff8300')\n",
    "plt.title('Entertainment',fontsize=fsize)\n",
    "plt.xlabel('') \n",
    "\n",
    "plt.subplot(4,1,3)\n",
    "plt.xlim(yrange)\n",
    "edu = paidapps[paidapps.prime_genre=='Education']\n",
    "sns.stripplot(data=edu,y='price',jitter= True ,orient ='h' ,size=6,color='#20B2AA')\n",
    "plt.title('Education',fontsize=fsize)\n",
    "plt.xlabel('') \n",
    "\n",
    "plt.subplot(4,1,4)\n",
    "plt.xlim(yrange)\n",
    "pv = paidapps[paidapps.prime_genre=='Photo & Video']\n",
    "sns.stripplot(data=pv,y='price',jitter= True  ,orient ='h',size=6,color='#b84efd')\n",
    "plt.title('Photo & Video',fontsize=fsize)\n",
    "plt.xlabel('') \n",
    "\n",
    "plt.show()"
   ]
  },
  {
   "cell_type": "markdown",
   "metadata": {
    "_uuid": "88d92bd9c3adffd41159dd63934fbd4e462774f5"
   },
   "source": [
    "### Insights\n",
    "- Paid gaming apps are highly priced and distribution extends till 25 $\n",
    "- Paid Entertainment apps have a lower price range"
   ]
  },
  {
   "cell_type": "markdown",
   "metadata": {
    "_uuid": "fd2258d535f63ab141c3a9bc6305e44d8bf8c4eb"
   },
   "source": [
    "## 3. What about paid apps Vs Free apps ?\n"
   ]
  },
  {
   "cell_type": "code",
   "execution_count": null,
   "metadata": {
    "_uuid": "3d89a74648b35669c7a292f8594b6e1efdb6b9e1"
   },
   "outputs": [],
   "source": [
    "print(\"There are total of \" + str(len(data.prime_genre.value_counts().index)) \n",
    "      + \" categories which is little too much\")\n",
    "print (\"Lets limit our categories to 5\")"
   ]
  },
  {
   "cell_type": "code",
   "execution_count": null,
   "metadata": {
    "_uuid": "02f550667c37781feeb7d48e1a0cbb99d0ed246c",
    "collapsed": true
   },
   "outputs": [],
   "source": [
    "# reducing the number of categories\n",
    "\n",
    "s = data.prime_genre.value_counts().index[:4]\n",
    "def categ(x):\n",
    "    if x in s:\n",
    "        return x\n",
    "    else : \n",
    "        return \"Others\"\n",
    "\n",
    "data['broad_genre']= data.prime_genre.apply(lambda x : categ(x))"
   ]
  },
  {
   "cell_type": "code",
   "execution_count": null,
   "metadata": {
    "_uuid": "5e3861a0655aec1ca38978b7e6f200319c8eb174"
   },
   "outputs": [],
   "source": [
    "free = data[data.price==0].broad_genre.value_counts().sort_index().to_frame()\n",
    "paid = data[data.price>0].broad_genre.value_counts().sort_index().to_frame()\n",
    "total = data.broad_genre.value_counts().sort_index().to_frame()\n",
    "free.columns=['free']\n",
    "paid.columns=['paid']\n",
    "total.columns=['total']\n",
    "dist = free.join(paid).join(total)\n",
    "dist ['paid_per'] = dist.paid*100/dist.total\n",
    "dist ['free_per'] = dist.free*100/dist.total\n",
    "dist"
   ]
  },
  {
   "cell_type": "code",
   "execution_count": null,
   "metadata": {
    "_uuid": "ab0e0533bc4d2d14170cc3cd4705670bf0e661b3",
    "collapsed": true
   },
   "outputs": [],
   "source": [
    "list_free= dist.free_per.tolist()\n",
    "tuple_free = tuple(list_free)\n",
    "tuple_paidapps = tuple(dist.paid_per.tolist())"
   ]
  },
  {
   "cell_type": "code",
   "execution_count": null,
   "metadata": {
    "_uuid": "eba01af1cbc0e1766849ba0641ad6c496c39d258",
    "scrolled": false
   },
   "outputs": [],
   "source": [
    "plt.figure(figsize=(15,8))\n",
    "N=5\n",
    "ind = np.arange(N)    # the x locations for the groups\n",
    "width =0.56   # the width of the bars: can also be len(x) sequence\n",
    "\n",
    "p1 = plt.bar(ind, tuple_free, width, color='#45cea2')\n",
    "p2 = plt.bar(ind, tuple_paidapps, width,bottom=tuple_free,color='#fdd470')\n",
    "plt.xticks(ind,tuple(dist.index.tolist() ))\n",
    "plt.legend((p1[0], p2[0]), ('free', 'paid'))\n",
    "plt.show()\n",
    "# for pie chart\n",
    "pies = dist[['free_per','paid_per']]\n",
    "pies.columns=['free %','paid %']\n",
    "plt.show()"
   ]
  },
  {
   "cell_type": "code",
   "execution_count": null,
   "metadata": {
    "_uuid": "844ed2323aa02a8f519223724db5fd715a120cf4"
   },
   "outputs": [],
   "source": [
    "plt.figure(figsize=(15,8))\n",
    "pies.T.plot.pie(subplots=True,figsize=(20,4),colors=['#45cea2','#fdd470'])\n",
    "plt.show()"
   ]
  },
  {
   "cell_type": "markdown",
   "metadata": {
    "_uuid": "687e38df5e562894e4971faaa1840dff49b82526"
   },
   "source": [
    "### Insights\n",
    "- Education has significant % of Paid apps.\n",
    "- On the contrary - Entertainment category hosts high % of free apps"
   ]
  },
  {
   "cell_type": "markdown",
   "metadata": {
    "_uuid": "ac53a982b4c2ed18b6beaca14e4954b3fef133c0"
   },
   "source": [
    "## 4. Are paid apps good enough ?"
   ]
  },
  {
   "cell_type": "code",
   "execution_count": null,
   "metadata": {
    "_uuid": "b92c1c6d56cf94c45b2e8d8c6d79babee84d2349"
   },
   "outputs": [],
   "source": [
    "def paid(x):\n",
    "    if x>0:\n",
    "        return 'Paid'\n",
    "    else :\n",
    "        return'Free'\n",
    "\n",
    "data['category']= data.price.apply(lambda x : paid(x))\n",
    "data.tail()\n"
   ]
  },
  {
   "cell_type": "markdown",
   "metadata": {
    "_uuid": "0a49c154946997969d4c6664235da0ee64fbaee7"
   },
   "source": []
  },
  {
   "cell_type": "code",
   "execution_count": null,
   "metadata": {
    "_uuid": "de8fde1bc7f4f0483023dfbd23b3759703d71837"
   },
   "outputs": [],
   "source": [
    "plt.figure(figsize=(15,8))\n",
    "plt.style.use('fast')\n",
    "plt.ylim([0,5])\n",
    "plt.title(\"Distribution of User ratings\")\n",
    "sns.violinplot(data=data, y ='user_rating',x='broad_genre',hue='category',\n",
    "               vertical=True,kde=False,split=True ,linewidth=2,\n",
    "               scale ='count', palette=['#fdd470','#45cea2'])\n",
    "plt.xlabel(\" \")\n",
    "plt.ylabel(\"Rating (0-5)\")\n",
    "\n",
    "plt.show()"
   ]
  },
  {
   "cell_type": "markdown",
   "metadata": {
    "_uuid": "6ee6f3d26d6cd7acb93b23756d1c61cf6d9d4db2"
   },
   "source": [
    "#### trick :  Why cant we use swarm plot ? \n",
    " - Swarm is a non overlap plot i.e it will plot each point seperately on the graph.\n",
    " - If the number of points on particular value is a lot - lets say 100.\n",
    " - It will have to plot each value seperately on the graph\n",
    " - the graph will expand horizontally "
   ]
  },
  {
   "cell_type": "markdown",
   "metadata": {
    "_uuid": "9bbcec564a368cd157314e054336d6b9f41c457e"
   },
   "source": [
    "## 5. As the size of the app increases do they get pricier ?\n"
   ]
  },
  {
   "cell_type": "code",
   "execution_count": null,
   "metadata": {
    "_uuid": "c7cec6d35a54ebd90665b938002bbe119bb6abb7",
    "scrolled": false
   },
   "outputs": [],
   "source": [
    "sns.color_palette(\"husl\", 8)\n",
    "sns.set_style(\"whitegrid\")\n",
    "flatui = [\"#9b59b6\", \"#3498db\", \"#95a5a6\", \"#e74c3c\", \"#34495e\", \"#2ecc71\"]\n",
    "data ['MB']= data.size_bytes.apply(lambda x : x/1048576)\n",
    "paidapps_regression =data[((data.price<30) & (data.price>0))]\n",
    "sns.lmplot(data=paidapps_regression,\n",
    "           x='MB',y='price',size=4, aspect=2,col_wrap=2,hue='broad_genre',\n",
    "           col='broad_genre',fit_reg=False,palette = sns.color_palette(\"husl\", 5))\n",
    "plt.show()"
   ]
  },
  {
   "cell_type": "markdown",
   "metadata": {
    "_uuid": "401912bb79096f9cc555e0feff7629e1b1ab9277"
   },
   "source": [
    "#### Answer : NO ! "
   ]
  },
  {
   "cell_type": "markdown",
   "metadata": {
    "_uuid": "54116ee6590aa5a04a3ee049aa4a32d73b2df14b"
   },
   "source": [
    "## 6. How are the apps distributed category wise ? can we split by paid category ?"
   ]
  },
  {
   "cell_type": "code",
   "execution_count": null,
   "metadata": {
    "_uuid": "d2470ce117fba866907f906f99ec2fa63b985704"
   },
   "outputs": [],
   "source": [
    "BlueOrangeWapang = ['#fc910d','#fcb13e','#239cd3','#1674b1','#ed6d50']\n",
    "plt.figure(figsize=(10,10))\n",
    "label_names=data.broad_genre.value_counts().sort_index().index\n",
    "size = data.broad_genre.value_counts().sort_index().tolist()\n",
    "my_circle=plt.Circle( (0,0), 0.5, color='white')\n",
    "plt.pie(size, labels=label_names, colors=BlueOrangeWapang)\n",
    "p=plt.gcf()\n",
    "p.gca().add_artist(my_circle)\n",
    "plt.show()\n"
   ]
  },
  {
   "cell_type": "code",
   "execution_count": null,
   "metadata": {
    "_uuid": "374d8258ce72c7d31765b4c7dce091c347a59f24"
   },
   "outputs": [],
   "source": [
    "plt.figure(figsize=(10,10))\n",
    "f=pd.DataFrame(index=np.arange(0,10,2),data=dist.free.values,columns=['num'])\n",
    "p=pd.DataFrame(index=np.arange(1,11,2),data=dist.paid.values,columns=['num'])\n",
    "final = pd.concat([f,p],names=['labels']).sort_index()\n",
    "final.num.tolist()\n",
    "\n",
    "plt.figure(figsize=(20,20))\n",
    "group_names=data.broad_genre.value_counts().sort_index().index\n",
    "group_size=data.broad_genre.value_counts().sort_index().tolist()\n",
    "h = ['Free', 'Paid']\n",
    "subgroup_names= 5*h\n",
    "sub= ['#45cea2','#fdd470']\n",
    "subcolors= 5*sub\n",
    "subgroup_size=final.num.tolist()\n",
    "\n",
    "\n",
    "# First Ring (outside)\n",
    "fig, ax = plt.subplots()\n",
    "ax.axis('equal')\n",
    "mypie, _ = ax.pie(group_size, radius=2.5, labels=group_names, colors=BlueOrangeWapang)\n",
    "plt.setp( mypie, width=1.2, edgecolor='white')\n",
    "\n",
    "# Second Ring (Inside)\n",
    "mypie2, _ = ax.pie(subgroup_size, radius=1.6, labels=subgroup_names, labeldistance=0.7, colors=subcolors)\n",
    "plt.setp( mypie2, width=0.8, edgecolor='white')\n",
    "plt.margins(0,0)\n",
    "\n",
    "# show it\n",
    "plt.show()\n"
   ]
  },
  {
   "cell_type": "markdown",
   "metadata": {
    "_uuid": "6c9e32c9248d3508a15c8e565e23d15ae4be8fd2"
   },
   "source": [
    "# THE END"
   ]
  }
 ],
 "metadata": {
  "kernelspec": {
   "display_name": "Python 3",
   "language": "python",
   "name": "python3"
  },
  "language_info": {
   "codemirror_mode": {
    "name": "ipython",
    "version": 3
   },
   "file_extension": ".py",
   "mimetype": "text/x-python",
   "name": "python",
   "nbconvert_exporter": "python",
   "pygments_lexer": "ipython3",
   "version": "3.7.9"
  }
 },
 "nbformat": 4,
 "nbformat_minor": 1
}
